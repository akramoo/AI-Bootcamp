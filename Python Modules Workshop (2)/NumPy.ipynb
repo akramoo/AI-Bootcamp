{
 "cells": [
  {
   "cell_type": "markdown",
   "id": "b27fd719-4b84-4bc5-9e9a-f0d68e53f87e",
   "metadata": {},
   "source": [
    "# Installing Modules with Pip\n",
    "\n",
    "## Introduction\n",
    "In Python, modules are additional pieces of code that can be integrated into your project to provide specific functionalities. Pip is a package manager for Python that makes it easy to install and manage these modules.\n",
    "\n",
    "## Installing a Module\n",
    "To install a module using pip, you can use the following command in your terminal or command prompt:\n",
    "\n",
    "```bash\n",
    "pip install module_name\n",
    "```"
   ]
  },
  {
   "cell_type": "markdown",
   "id": "bfaba87c-59d6-4384-aed6-4aaee0c22a9c",
   "metadata": {},
   "source": [
    "# Introduction to Numpy\n",
    "\n",
    "## What is Numpy?\n",
    "Numpy is a powerful numerical library in Python that provides support for large, multi-dimensional arrays and matrices, along with mathematical functions to operate on these arrays.\n",
    "\n",
    "## Installation\n",
    "To install Numpy using pip, run the following command:\n",
    "\n",
    "```bash\n",
    "pip install numpy\n",
    "```"
   ]
  },
  {
   "cell_type": "markdown",
   "id": "e3f58e03-b86b-4b51-bf92-8b607a26f260",
   "metadata": {},
   "source": [
    "# Importing the necessary libraries"
   ]
  },
  {
   "cell_type": "code",
   "execution_count": 3,
   "id": "2d95b772-4926-4d4a-a3c9-edb57254db66",
   "metadata": {},
   "outputs": [],
   "source": [
    "# Importing the necessary libraries\n",
    " # %pip install numpy\n",
    "import numpy as np"
   ]
  },
  {
   "cell_type": "markdown",
   "id": "2f435910-e9cb-4dfd-b300-bf9deecad955",
   "metadata": {},
   "source": [
    "# Basic Numpy Functions for Data Scientists\n"
   ]
  },
  {
   "cell_type": "markdown",
   "id": "d729a94a-4dec-4a59-a627-dcc53ec738d1",
   "metadata": {},
   "source": [
    "### Creating arrays"
   ]
  },
  {
   "cell_type": "code",
   "execution_count": 4,
   "id": "cebb8258-86c5-4c93-9215-3e7a7e294ac5",
   "metadata": {},
   "outputs": [
    {
     "name": "stdout",
     "output_type": "stream",
     "text": [
      "arr1 values:  [1 2 3 4 5]\n",
      "arr2 values:  [0 2 4 6 8]\n",
      "arr3 values  [0.   0.25 0.5  0.75 1.  ]\n"
     ]
    }
   ],
   "source": [
    "# Creating arrays\n",
    "arr1 = np.array([1, 2, 3, 4, 5])\n",
    "arr2 = np.arange(0, 10, 2)  # Using arange for a range of values\n",
    "arr3 = np.linspace(0, 1,5)  # Using linspace for evenly spaced values\n",
    "\n",
    "print(\"arr1 values: \", arr1)\n",
    "print(\"arr2 values: \", arr2)\n",
    "print(\"arr3 values \", arr3)"
   ]
  },
  {
   "cell_type": "markdown",
   "id": "3166cd8d-264e-4f12-8773-944862b9d9a2",
   "metadata": {},
   "source": [
    "### Array operations\n"
   ]
  },
  {
   "cell_type": "code",
   "execution_count": 5,
   "id": "8276ab79-574c-4903-b5f0-d36001928ba4",
   "metadata": {},
   "outputs": [
    {
     "name": "stdout",
     "output_type": "stream",
     "text": [
      "Sum: 15\n",
      "Mean: 4.0\n",
      "Standard Deviation: 0.3535533905932738\n"
     ]
    }
   ],
   "source": [
    "# Array operations\n",
    "sum_arr = np.sum(arr1)\n",
    "mean_arr = np.mean(arr2)\n",
    "std_dev_arr = np.std(arr3)\n",
    "print(\"Sum:\", sum_arr)\n",
    "print(\"Mean:\", mean_arr)\n",
    "print(\"Standard Deviation:\", std_dev_arr)"
   ]
  },
  {
   "cell_type": "markdown",
   "id": "7dde3e3d-61e9-4d54-816b-ce35c973e362",
   "metadata": {},
   "source": [
    "### Reshaping and stacking arrays"
   ]
  },
  {
   "cell_type": "code",
   "execution_count": 8,
   "id": "94a67146-11e5-411f-ab50-1a092856f7f4",
   "metadata": {},
   "outputs": [
    {
     "name": "stdout",
     "output_type": "stream",
     "text": [
      "reshaped_arr shape: (2, 3)\n",
      "Original Array:\n",
      "[[1 2 3]\n",
      " [4 5 6]]\n",
      "Reshaped Array:\n",
      "[[1 2 3]\n",
      " [4 5 6]]\n",
      "Stacked Array:\n",
      "[[1 2 3]\n",
      " [4 5 6]\n",
      " [1 2 3]\n",
      " [4 5 6]]\n"
     ]
    }
   ],
   "source": [
    "# Creating a 2D array\n",
    "arr_2d = np.array([[1, 2, 3], [4, 5, 6]])\n",
    "\n",
    "# Reshaping the array to a 2x3 matrix\n",
    "reshaped_arr = arr_2d.reshape((2, 3))\n",
    "print(\"reshaped_arr shape:\", reshaped_arr.shape)\n",
    "\n",
    "# Stacking arrays vertically\n",
    "stacked_arr = np.vstack((arr_2d, reshaped_arr))\n",
    "\n",
    "# Displaying the arrays\n",
    "print(\"Original Array:\")\n",
    "print(arr_2d)\n",
    "print(\"Reshaped Array:\")\n",
    "print(reshaped_arr)\n",
    "print(\"Stacked Array:\")\n",
    "print(stacked_arr)"
   ]
  },
  {
   "cell_type": "markdown",
   "id": "e61c0945-8496-43c6-b4d3-367aea741195",
   "metadata": {},
   "source": [
    "### Indexing and slicing\n"
   ]
  },
  {
   "cell_type": "code",
   "execution_count": 9,
   "id": "8bc16e22-1f32-4eaa-b764-e5193c99600e",
   "metadata": {},
   "outputs": [
    {
     "name": "stdout",
     "output_type": "stream",
     "text": [
      "[1 2 3 4 5]\n",
      "Sliced Array: [3 4 5]\n"
     ]
    }
   ],
   "source": [
    "## Indexing and slicing\n",
    "print(arr1)\n",
    "arr_slice = arr1[2:]\n",
    "print(\"Sliced Array:\", arr_slice)"
   ]
  },
  {
   "cell_type": "markdown",
   "id": "d04cbd62-87d6-4ef4-acbc-af20c712ff90",
   "metadata": {},
   "source": [
    "# Advanced Numpy Functions for Data Scientists\n"
   ]
  },
  {
   "cell_type": "markdown",
   "id": "2ba5f0da-66ef-4452-9ec4-3e482412de0b",
   "metadata": {},
   "source": [
    "### Broadcasting and element-wise operations\n"
   ]
  },
  {
   "cell_type": "code",
   "execution_count": 10,
   "id": "d681a3d1-f468-46c1-adec-2de603dbc1a8",
   "metadata": {},
   "outputs": [
    {
     "name": "stdout",
     "output_type": "stream",
     "text": [
      "Broadcasted Array:\n",
      "[[0 1 2]\n",
      " [1 2 3]\n",
      " [2 3 4]]\n",
      "Element-wise Multiplication:\n",
      "[1 2 3 4 5]\n",
      "[0 2 4 6 8]\n",
      "[ 0  4 12 24 40]\n"
     ]
    }
   ],
   "source": [
    "# Broadcasting and element-wise operations\n",
    "broadcasted_arr = np.arange(3)[:, np.newaxis] + np.arange(3)\n",
    "elementwise_mult = np.multiply(arr1, arr2)\n",
    "\n",
    "print(\"Broadcasted Array:\")\n",
    "print(broadcasted_arr)\n",
    "print(\"Element-wise Multiplication:\")\n",
    "print(arr1)\n",
    "print(arr2)\n",
    "print(elementwise_mult)"
   ]
  },
  {
   "cell_type": "markdown",
   "id": "5cd8f131-823a-4928-abc9-b7041611f4d8",
   "metadata": {},
   "source": [
    "### Numpy statistical functions\n"
   ]
  },
  {
   "cell_type": "code",
   "execution_count": 11,
   "id": "0cd45a8b-9b30-4b5d-97ba-7dc8c73e15cb",
   "metadata": {},
   "outputs": [
    {
     "name": "stdout",
     "output_type": "stream",
     "text": [
      "Percentiles: [2. 3. 4.]\n",
      "Correlation Coefficient:\n",
      "[[1. 1.]\n",
      " [1. 1.]]\n"
     ]
    }
   ],
   "source": [
    "# Numpy statistical functions\n",
    "percentile_arr = np.percentile(arr1, [25, 50, 75])\n",
    "correlation_coefficient = np.corrcoef(arr1, arr2)\n",
    "print(\"Percentiles:\", percentile_arr)\n",
    "print(\"Correlation Coefficient:\")\n",
    "print(correlation_coefficient)"
   ]
  },
  {
   "cell_type": "markdown",
   "id": "5b0c62da-c2ec-4b97-8fcd-1a61f9096227",
   "metadata": {},
   "source": [
    "### Random numbers and sampling\n"
   ]
  },
  {
   "cell_type": "code",
   "execution_count": 12,
   "id": "c44e0244-d315-4516-8f61-87a610064a23",
   "metadata": {},
   "outputs": [
    {
     "name": "stdout",
     "output_type": "stream",
     "text": [
      "Random Normal Distribution:\n",
      "[[ 1.05099859  0.41762794 -0.34673106]\n",
      " [ 0.7611953  -1.28828368  1.38223109]\n",
      " [-1.38287101  0.331656   -0.26751375]]\n",
      "Random Integers:\n",
      "[[ 8 14  1 12]]\n"
     ]
    }
   ],
   "source": [
    "# Random numbers and sampling\n",
    "random_normal = np.random.normal(0, 1, size=(3, 3))\n",
    "random_integers = np.random.randint(1, 15, size=(1, 4))\n",
    "print(\"Random Normal Distribution:\")\n",
    "print(random_normal)\n",
    "print(\"Random Integers:\")\n",
    "print(random_integers)"
   ]
  },
  {
   "cell_type": "markdown",
   "id": "0bfa9fd0-ff72-4301-994f-992fa81c60fd",
   "metadata": {},
   "source": [
    "### Linear algebra operations\n",
    "\n"
   ]
  },
  {
   "cell_type": "code",
   "execution_count": 13,
   "id": "58129c5f-26ed-4ba9-ab32-6ed0b18c6235",
   "metadata": {
    "scrolled": true
   },
   "outputs": [
    {
     "name": "stdout",
     "output_type": "stream",
     "text": [
      "Matrix Inverse:\n",
      "[[-2.   1. ]\n",
      " [ 1.5 -0.5]]\n",
      "Eigenvalues:\n",
      "[-0.37228132  5.37228132]\n",
      "Eigenvectors:\n",
      "[[-0.82456484 -0.41597356]\n",
      " [ 0.56576746 -0.90937671]]\n"
     ]
    }
   ],
   "source": [
    "# Linear algebra operations\n",
    "matrix_a = np.array([[1, 2], [3, 4]])\n",
    "matrix_b = np.array([[5, 6], [7, 8]])\n",
    "matrix_inverse = np.linalg.inv(matrix_a)\n",
    "eigenvalues, eigenvectors = np.linalg.eig(matrix_a)\n",
    "print(\"Matrix Inverse:\")\n",
    "print(matrix_inverse)\n",
    "print(\"Eigenvalues:\")\n",
    "print(eigenvalues)\n",
    "print(\"Eigenvectors:\")\n",
    "print(eigenvectors)"
   ]
  },
  {
   "cell_type": "markdown",
   "id": "c1a502a8-0842-4655-b2b0-afacd09133ed",
   "metadata": {},
   "source": [
    "### Saving and loading arrays\n",
    "\n",
    "\n"
   ]
  },
  {
   "cell_type": "code",
   "execution_count": 14,
   "id": "b880e946-5648-4c11-bbde-ba5a8c08bba1",
   "metadata": {},
   "outputs": [
    {
     "name": "stdout",
     "output_type": "stream",
     "text": [
      "Loaded Array: [0.   0.25 0.5  0.75 1.  ]\n"
     ]
    }
   ],
   "source": [
    "## Saving and loading arrays\n",
    "np.save('saved_array.npy', arr3)\n",
    "loaded_arr = np.load('saved_array.npy')\n",
    "print(\"Loaded Array:\", loaded_arr)"
   ]
  },
  {
   "cell_type": "code",
   "execution_count": 15,
   "id": "6ea48d3b-c2b8-4c47-8883-9263ca308875",
   "metadata": {},
   "outputs": [
    {
     "name": "stdout",
     "output_type": "stream",
     "text": [
      "Sample data for monthly sales:\n",
      "  [[152 123 153]\n",
      " [ 69 103 118]\n",
      " [164 197  87]\n",
      " [ 88  71 114]\n",
      " [ 66 148  64]\n",
      " [124 156 179]\n",
      " [165 116  87]\n",
      " [ 97 127  51]\n",
      " [154  50 143]\n",
      " [ 53  53 152]\n",
      " [154  63 179]\n",
      " [170 156  59]]\n"
     ]
    }
   ],
   "source": [
    "# Let's create some sample data for monthly sales of three products over a year.\n",
    "monthly_sales_data = np.random.randint(50, 200, size=(12, 3))\n",
    "print(\"Sample data for monthly sales:\\n \", monthly_sales_data)"
   ]
  },
  {
   "cell_type": "code",
   "execution_count": 16,
   "id": "24dde95e-9674-4a95-95f0-0c06bbaf2231",
   "metadata": {},
   "outputs": [
    {
     "name": "stdout",
     "output_type": "stream",
     "text": [
      "Total Sales for Each Product: [1456 1363 1386]\n"
     ]
    }
   ],
   "source": [
    "# Calculate total sales for each product over the year\n",
    "total_sales = np.sum(monthly_sales_data, axis=0)\n",
    "print(\"Total Sales for Each Product:\", total_sales)"
   ]
  },
  {
   "cell_type": "code",
   "execution_count": 15,
   "id": "4c9734af-7872-4c16-a105-f23c532b2183",
   "metadata": {},
   "outputs": [
    {
     "name": "stdout",
     "output_type": "stream",
     "text": [
      "Best Sales Month: 7\n"
     ]
    }
   ],
   "source": [
    "# Find the month with the highest total sales\n",
    "best_month = np.argmax(np.sum(monthly_sales_data, axis=1)) + 1\n",
    "print(\"Best Sales Month:\", best_month)"
   ]
  },
  {
   "cell_type": "markdown",
   "id": "dd8768b8-1e6b-4a29-b4b5-0631433a219b",
   "metadata": {},
   "source": [
    "# Scenario: Financial Analysis for a Retail Store\n",
    "Imagine you are working with a retail store that sells electronic gadgets. The store maintains **monthly sales data** for three types of products: *smartphones*, *laptops*, and *smartwatches*. Your task is to ***perform a financial analysis using NumPy to derive meaningful insights***.\n"
   ]
  },
  {
   "cell_type": "code",
   "execution_count": 18,
   "id": "41cbfcf7-a6c3-49cd-a3a4-7b0293a255e0",
   "metadata": {},
   "outputs": [],
   "source": [
    "# Sample monthly sales data (in thousands of dollars)\n",
    "monthly_sales_data = np.array([\n",
    "    [120, 80, 50],\n",
    "    [130, 90, 55],\n",
    "    [110, 85, 60],\n",
    "    [140, 75, 45],\n",
    "    [150, 95, 65],\n",
    "    [130, 80, 55],\n",
    "    [110, 75, 50],\n",
    "    [100, 70, 40],\n",
    "    [120, 85, 60],\n",
    "    [140, 100, 70],\n",
    "    [160, 110, 80],\n",
    "    [180, 120, 90]\n",
    "])\n",
    "\n",
    "# Products: 0 - Smartphones, 1 - Laptops, 2 - Smartwatches\n",
    "product_labels = ['Smartphones', 'Laptops', 'Smartwatches']\n"
   ]
  },
  {
   "cell_type": "markdown",
   "id": "e63f888d-3925-4a05-ab98-a731bcff3e1d",
   "metadata": {},
   "source": [
    "### Tasks:\n",
    "1. ***Total Sales Analysis:***\n",
    "   - Calculate the total sales for each product over the entire year.\n",
    "    - Identify the product with the highest total sales.\n",
    "3. ***Monthly Performance Analysis:***\n",
    "   - Find the month with the highest sales for each product.\n",
    "    - Determine the overall best-selling month.\n",
    "5. ***Average Monthly Sales:***\n",
    "   - Calculate the average monthly sales for each product.\n",
    "   - Find the product with the highest average monthly sales.\n",
    "7. ***Yearly Performance Summary:***\n",
    "   - Summarize the yearly performance by calculating the total sales, average monthly sales, and the best-selling product.\n"
   ]
  },
  {
   "cell_type": "markdown",
   "id": "a3d6e1a4-234c-49bf-9901-5f9a347d4c15",
   "metadata": {},
   "source": [
    "### 1. Total Sales Analysis"
   ]
  },
  {
   "cell_type": "code",
   "execution_count": 19,
   "id": "bab665e2-a92e-4e85-8a4b-bf2b0ed7546b",
   "metadata": {},
   "outputs": [
    {
     "name": "stdout",
     "output_type": "stream",
     "text": [
      "9\n"
     ]
    }
   ],
   "source": [
    "array = np.array([1,2,5,7,0,9])\n",
    "highest_value = np.argmax(array)\n",
    "print(array[highest_value])"
   ]
  },
  {
   "cell_type": "code",
   "execution_count": 20,
   "id": "c77ed5f4-2b8d-4a30-b48b-e32d16f4f92d",
   "metadata": {},
   "outputs": [
    {
     "name": "stdout",
     "output_type": "stream",
     "text": [
      "Total Sales for Each Product: [1590 1065  720]\n",
      "Best Selling Product: Smartphones\n"
     ]
    }
   ],
   "source": [
    "# 1. Total Sales Analysis\n",
    "total_sales = np.sum(monthly_sales_data, axis=0)\n",
    "best_selling_product = np.argmax(total_sales)\n",
    "print(\"Total Sales for Each Product:\", total_sales)\n",
    "print(\"Best Selling Product:\", product_labels[best_selling_product])"
   ]
  },
  {
   "cell_type": "markdown",
   "id": "b8701f81-3671-405f-9e3a-77a6c983a6d5",
   "metadata": {},
   "source": [
    "### 2. Monthly Performance Analysis"
   ]
  },
  {
   "cell_type": "code",
   "execution_count": 21,
   "id": "a8d64f25-3ac4-46f7-be5b-093b1c28807c",
   "metadata": {},
   "outputs": [
    {
     "name": "stdout",
     "output_type": "stream",
     "text": [
      "[250 275 255 260 310 265 235 210 265 310 350 390]\n",
      "Best Sales Month for Each Product: [12 12 12]\n",
      "Overall Best Sales Month: 12\n"
     ]
    }
   ],
   "source": [
    "# 2. Monthly Performance Analysis\n",
    "best_month_each_product = np.argmax(monthly_sales_data, axis=0) + 1\n",
    "overall_best_month = np.argmax(np.sum(monthly_sales_data, axis=1)) + 1\n",
    "print(np.sum(monthly_sales_data, axis=1))\n",
    "print(\"Best Sales Month for Each Product:\", best_month_each_product)\n",
    "print(\"Overall Best Sales Month:\", overall_best_month)"
   ]
  },
  {
   "cell_type": "markdown",
   "id": "4f2ab59e-4d6d-4930-a675-931857ac2a35",
   "metadata": {},
   "source": [
    "### 3. Average Monthly Sales"
   ]
  },
  {
   "cell_type": "code",
   "execution_count": 22,
   "id": "8e65b14a-40b1-46fd-afaa-afd41070f5e0",
   "metadata": {},
   "outputs": [
    {
     "name": "stdout",
     "output_type": "stream",
     "text": [
      "Average Monthly Sales for Each Product: [132.5   88.75  60.  ]\n",
      "Product with the Highest Average Monthly Sales: Smartphones\n"
     ]
    }
   ],
   "source": [
    "# 3. Average Monthly Sales\n",
    "average_monthly_sales = np.mean(monthly_sales_data, axis=0)\n",
    "best_selling_product_avg = np.argmax(average_monthly_sales)\n",
    "print(\"Average Monthly Sales for Each Product:\", average_monthly_sales)\n",
    "print(\"Product with the Highest Average Monthly Sales:\", product_labels[best_selling_product_avg])"
   ]
  },
  {
   "cell_type": "markdown",
   "id": "50ff3228-19a3-4e8a-8f50-5afd1dc50933",
   "metadata": {},
   "source": [
    "### 4. Yearly Performance Summary"
   ]
  },
  {
   "cell_type": "code",
   "execution_count": 23,
   "id": "54731673-01bb-4df4-943d-832dcb007be5",
   "metadata": {},
   "outputs": [
    {
     "name": "stdout",
     "output_type": "stream",
     "text": [
      "\n",
      "Yearly Performance Summary:\n",
      "Total Sales: [1590 1065  720]\n",
      "Average Monthly Sales: [132.5   88.75  60.  ]\n",
      "Best Selling Product: Smartphones\n"
     ]
    }
   ],
   "source": [
    "# 4. Yearly Performance Summary\n",
    "yearly_summary = {\n",
    "    'Total Sales': total_sales,\n",
    "    'Average Monthly Sales': average_monthly_sales,\n",
    "    'Best Selling Product': product_labels[best_selling_product]\n",
    "}\n",
    "print(\"\\nYearly Performance Summary:\")\n",
    "for key, value in yearly_summary.items():\n",
    "    print(f\"{key}: {value}\")"
   ]
  },
  {
   "cell_type": "markdown",
   "id": "32462c23-49de-4d72-8fbc-ea324947d113",
   "metadata": {},
   "source": [
    "### Exercise:\n",
    "Imagine the retail store is planning to introduce a new product category, ***\"Tablets,\"*** in the coming year. Assume that the monthly sales data for tablets is estimated to be:\n"
   ]
  },
  {
   "cell_type": "code",
   "execution_count": 24,
   "id": "e176fad5-667a-4466-b970-412fb508bd04",
   "metadata": {},
   "outputs": [],
   "source": [
    "# Estimated monthly sales data for Tablets (in thousands of dollars)\n",
    "tablet_sales_data = np.array([100, 70, 40, 120, 80, 50, 110, 85, 60, 130, 90, 55])"
   ]
  },
  {
   "cell_type": "markdown",
   "id": "6280d470-7b94-4257-b555-6c46b5b90bdd",
   "metadata": {
    "jp-MarkdownHeadingCollapsed": true
   },
   "source": [
    "### Tasks:\n",
    "1. ***Integration of Tablets:***\n",
    "    - Integrate the tablet sales data into the existing monthly_sales_data array.\n",
    "    - Update the product_labels accordingly.\n",
    "3. ***Re-analysis with Tables:***\n",
    "    - Recalculate the total sales for each product, considering the tablets.\n",
    "    - Determine the product with the highest total sales.\n",
    "5. ***Impact Analysis:***\n",
    "   - Analyze the impact of adding tablets on the overall best-selling month.\n",
    "   - Compare the average monthly sales for each product before and after adding tablets.\n",
    "\n",
    "\n"
   ]
  },
  {
   "cell_type": "markdown",
   "id": "a9edfb8a-f51e-4fa8-b21f-3cb595bde26c",
   "metadata": {},
   "source": [
    "### 1. Integration of Tablets"
   ]
  },
  {
   "cell_type": "code",
   "execution_count": 25,
   "id": "1f9b96d8-5015-46dd-8dd2-b93cef8a05ee",
   "metadata": {},
   "outputs": [
    {
     "name": "stdout",
     "output_type": "stream",
     "text": [
      "The new monthly sales data: \n",
      " [[120  80  50 100]\n",
      " [130  90  55  70]\n",
      " [110  85  60  40]\n",
      " [140  75  45 120]\n",
      " [150  95  65  80]\n",
      " [130  80  55  50]\n",
      " [110  75  50 110]\n",
      " [100  70  40  85]\n",
      " [120  85  60  60]\n",
      " [140 100  70 130]\n",
      " [160 110  80  90]\n",
      " [180 120  90  55]]\n",
      "The new product labels: \n",
      " ['Smartphones', 'Laptops', 'Smartwatches']\n"
     ]
    }
   ],
   "source": [
    "# 1. Integration of Tablets\n",
    "monthly_sales_data = np.column_stack((monthly_sales_data, tablet_sales_data))\n",
    "# product_labels.append('Tablets')\n",
    "print(\"The new monthly sales data: \\n\", monthly_sales_data)\n",
    "print(\"The new product labels: \\n\", product_labels)"
   ]
  },
  {
   "cell_type": "markdown",
   "id": "3fde8f4f-a2de-4875-85e7-87a76b7d9566",
   "metadata": {},
   "source": [
    "### 2. Re-analysis with Tablets\n"
   ]
  },
  {
   "cell_type": "code",
   "execution_count": 26,
   "id": "400cd4c0-844b-4b98-91bc-8a49694fe788",
   "metadata": {},
   "outputs": [
    {
     "name": "stdout",
     "output_type": "stream",
     "text": [
      "\n",
      "Total Sales for Each Product (with Tablets): [1590 1065  720  990]\n",
      "Best Selling Product (with Tablets): Smartphones\n"
     ]
    }
   ],
   "source": [
    "# 2. Re-analysis with Tablets\n",
    "total_sales_with_tablets = np.sum(monthly_sales_data, axis=0)\n",
    "best_selling_product_with_tablets = np.argmax(total_sales_with_tablets)\n",
    "print(\"\\nTotal Sales for Each Product (with Tablets):\", total_sales_with_tablets)\n",
    "print(\"Best Selling Product (with Tablets):\", product_labels[best_selling_product_with_tablets])"
   ]
  },
  {
   "cell_type": "markdown",
   "id": "3c2798bd-474b-4a7a-bff0-b308e46ed7f7",
   "metadata": {},
   "source": [
    "### 3. Impact Analysis\n"
   ]
  },
  {
   "cell_type": "code",
   "execution_count": 27,
   "id": "7d2fbfb6-8fdb-4db2-8983-437f4fa25692",
   "metadata": {},
   "outputs": [
    {
     "name": "stdout",
     "output_type": "stream",
     "text": [
      "\n",
      "Best Sales Month for Each Product (with Tablets): [12 12 12 10]\n",
      "Overall Best Sales Month (with Tablets): 12\n"
     ]
    }
   ],
   "source": [
    "# 3. Impact Analysis\n",
    "best_month_each_product_with_tablets = np.argmax(monthly_sales_data, axis=0) + 1\n",
    "overall_best_month_with_tablets = np.argmax(np.sum(monthly_sales_data, axis=1)) + 1\n",
    "print(\"\\nBest Sales Month for Each Product (with Tablets):\", best_month_each_product_with_tablets)\n",
    "print(\"Overall Best Sales Month (with Tablets):\", overall_best_month_with_tablets)"
   ]
  },
  {
   "cell_type": "markdown",
   "id": "54a558ce-45ae-47c1-9b23-23c56de45b2b",
   "metadata": {},
   "source": [
    "### 4. Compare Average Monthly Sales\n"
   ]
  },
  {
   "cell_type": "code",
   "execution_count": 28,
   "id": "b3098da5-8def-47c8-bbd6-c70a5093cefd",
   "metadata": {},
   "outputs": [
    {
     "name": "stdout",
     "output_type": "stream",
     "text": [
      "\n",
      "Average Monthly Sales for Each Product (with Tablets): [132.5   88.75  60.    82.5 ]\n",
      "Product with the Highest Average Monthly Sales (with Tablets): Smartphones\n"
     ]
    }
   ],
   "source": [
    "# 4. Compare Average Monthly Sales\n",
    "average_monthly_sales_with_tablets = np.mean(monthly_sales_data, axis=0)\n",
    "best_selling_product_avg_with_tablets = np.argmax(average_monthly_sales_with_tablets)\n",
    "print(\"\\nAverage Monthly Sales for Each Product (with Tablets):\", average_monthly_sales_with_tablets)\n",
    "print(\"Product with the Highest Average Monthly Sales (with Tablets):\", product_labels[best_selling_product_avg_with_tablets])"
   ]
  }
 ],
 "metadata": {
  "kernelspec": {
   "display_name": "Python 3 (ipykernel)",
   "language": "python",
   "name": "python3"
  },
  "language_info": {
   "codemirror_mode": {
    "name": "ipython",
    "version": 3
   },
   "file_extension": ".py",
   "mimetype": "text/x-python",
   "name": "python",
   "nbconvert_exporter": "python",
   "pygments_lexer": "ipython3",
   "version": "3.10.10"
  }
 },
 "nbformat": 4,
 "nbformat_minor": 5
}
